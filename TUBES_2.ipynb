{
  "nbformat": 4,
  "nbformat_minor": 0,
  "metadata": {
    "colab": {
      "name": "TUBES 2.ipynb",
      "provenance": [],
      "collapsed_sections": [],
      "toc_visible": true
    },
    "kernelspec": {
      "name": "python3",
      "display_name": "Python 3"
    },
    "language_info": {
      "name": "python"
    }
  },
  "cells": [
    {
      "cell_type": "markdown",
      "metadata": {
        "id": "95wNvITOZMw1"
      },
      "source": [
        "# IMPORT DATA"
      ]
    },
    {
      "cell_type": "code",
      "metadata": {
        "id": "o64KWRlAARJA",
        "colab": {
          "base_uri": "https://localhost:8080/",
          "height": 402
        },
        "outputId": "45af834f-95ad-4419-98a9-2a886aab003e"
      },
      "source": [
        "import pandas as pd\n",
        "import matplotlib.pyplot as plt\n",
        "import numpy as np\n",
        "\n",
        "\n",
        "data_rs = pd.read_excel(\"Masukan.xlsx\")\n",
        "data_rs"
      ],
      "execution_count": null,
      "outputs": [
        {
          "output_type": "execute_result",
          "data": {
            "text/html": [
              "<div>\n",
              "<style scoped>\n",
              "    .dataframe tbody tr th:only-of-type {\n",
              "        vertical-align: middle;\n",
              "    }\n",
              "\n",
              "    .dataframe tbody tr th {\n",
              "        vertical-align: top;\n",
              "    }\n",
              "\n",
              "    .dataframe thead th {\n",
              "        text-align: right;\n",
              "    }\n",
              "</style>\n",
              "<table border=\"1\" class=\"dataframe\">\n",
              "  <thead>\n",
              "    <tr style=\"text-align: right;\">\n",
              "      <th></th>\n",
              "      <th>Id</th>\n",
              "      <th>Umur</th>\n",
              "      <th>Kunjungan</th>\n",
              "    </tr>\n",
              "  </thead>\n",
              "  <tbody>\n",
              "    <tr>\n",
              "      <th>0</th>\n",
              "      <td>1</td>\n",
              "      <td>27</td>\n",
              "      <td>5</td>\n",
              "    </tr>\n",
              "    <tr>\n",
              "      <th>1</th>\n",
              "      <td>2</td>\n",
              "      <td>40</td>\n",
              "      <td>1</td>\n",
              "    </tr>\n",
              "    <tr>\n",
              "      <th>2</th>\n",
              "      <td>3</td>\n",
              "      <td>35</td>\n",
              "      <td>5</td>\n",
              "    </tr>\n",
              "    <tr>\n",
              "      <th>3</th>\n",
              "      <td>4</td>\n",
              "      <td>23</td>\n",
              "      <td>5</td>\n",
              "    </tr>\n",
              "    <tr>\n",
              "      <th>4</th>\n",
              "      <td>5</td>\n",
              "      <td>8</td>\n",
              "      <td>2</td>\n",
              "    </tr>\n",
              "    <tr>\n",
              "      <th>...</th>\n",
              "      <td>...</td>\n",
              "      <td>...</td>\n",
              "      <td>...</td>\n",
              "    </tr>\n",
              "    <tr>\n",
              "      <th>95</th>\n",
              "      <td>96</td>\n",
              "      <td>36</td>\n",
              "      <td>4</td>\n",
              "    </tr>\n",
              "    <tr>\n",
              "      <th>96</th>\n",
              "      <td>97</td>\n",
              "      <td>42</td>\n",
              "      <td>4</td>\n",
              "    </tr>\n",
              "    <tr>\n",
              "      <th>97</th>\n",
              "      <td>98</td>\n",
              "      <td>23</td>\n",
              "      <td>3</td>\n",
              "    </tr>\n",
              "    <tr>\n",
              "      <th>98</th>\n",
              "      <td>99</td>\n",
              "      <td>6</td>\n",
              "      <td>1</td>\n",
              "    </tr>\n",
              "    <tr>\n",
              "      <th>99</th>\n",
              "      <td>100</td>\n",
              "      <td>21</td>\n",
              "      <td>4</td>\n",
              "    </tr>\n",
              "  </tbody>\n",
              "</table>\n",
              "<p>100 rows × 3 columns</p>\n",
              "</div>"
            ],
            "text/plain": [
              "     Id  Umur  Kunjungan\n",
              "0     1    27          5\n",
              "1     2    40          1\n",
              "2     3    35          5\n",
              "3     4    23          5\n",
              "4     5     8          2\n",
              "..  ...   ...        ...\n",
              "95   96    36          4\n",
              "96   97    42          4\n",
              "97   98    23          3\n",
              "98   99     6          1\n",
              "99  100    21          4\n",
              "\n",
              "[100 rows x 3 columns]"
            ]
          },
          "metadata": {
            "tags": []
          },
          "execution_count": 163
        }
      ]
    },
    {
      "cell_type": "code",
      "metadata": {
        "id": "zQV0-jvznK4n"
      },
      "source": [
        "def importdata():\n",
        "  arrData = []\n",
        "  data_rs = pd.read_excel(\"Masukan.xlsx\")\n",
        "  for i in range(len(data_rs['Id'])):\n",
        "    arrData.append([])\n",
        "    arrData[i].append(data_rs['Id'][i])\n",
        "    arrData[i].append(data_rs['Umur'][i])\n",
        "    arrData[i].append(data_rs['Kunjungan'][i])\n",
        "  return arrData\n",
        "data_rs = importdata()\n"
      ],
      "execution_count": null,
      "outputs": []
    },
    {
      "cell_type": "code",
      "metadata": {
        "id": "S4DO-_dLCq7x"
      },
      "source": [
        "#umur : anak,remaja,dewasa\n",
        "#kunjungan : jarang, sering\n",
        "#score : baik, buruk"
      ],
      "execution_count": null,
      "outputs": []
    },
    {
      "cell_type": "markdown",
      "metadata": {
        "id": "f212u7IZ_PHq"
      },
      "source": [
        "# UMUR"
      ]
    },
    {
      "cell_type": "code",
      "metadata": {
        "id": "TFBy3b9DBuxR"
      },
      "source": [
        "def fuzzy_umur(usia):\n",
        "  #dewasa\n",
        "  if usia >= 45:\n",
        "    dewasa = 1\n",
        "  elif usia >= 25 and usia < 50:\n",
        "    dewasa = (usia - 25) / (50 - 25)\n",
        "  else:\n",
        "    dewasa = 0\n",
        " \n",
        " #anak\"\n",
        "  if usia <= 5:\n",
        "    anak = 1\n",
        "  elif usia >= 25 and usia < 50:\n",
        "    anak = (usia - 25) / (50 - 25)\n",
        "  else:\n",
        "    anak = 0\n",
        "\n",
        "  #remaja\n",
        "  if usia > 17 and usia <= 30:\n",
        "    remaja = 1\n",
        "  elif usia >= 25 and usia < 50:\n",
        "    remaja = (usia - 25) / (50 - 25)\n",
        "  else:\n",
        "    remaja = 0\n",
        "  \n",
        "  return round(anak,2),round(remaja,2),round(dewasa,2)\n",
        "\n"
      ],
      "execution_count": null,
      "outputs": []
    },
    {
      "cell_type": "markdown",
      "metadata": {
        "id": "lq2ePgv-_WCT"
      },
      "source": [
        "# KUNJUNGAN"
      ]
    },
    {
      "cell_type": "code",
      "metadata": {
        "id": "Lig8J9WqBg_T"
      },
      "source": [
        "def fuzzy_kunjungan(datang):\n",
        "  if datang >= 3:\n",
        "    sering = 1\n",
        "  elif datang >= 2 and datang < 4:\n",
        "    sering = (datang - 2) / (4 - 2)\n",
        "  else:\n",
        "    sering = 0\n",
        "\n",
        "  if datang <= 2:\n",
        "    jarang = 1\n",
        "  elif datang >= 2 and datang < 4:\n",
        "    jarang = (datang - 2) / (4 - 2)\n",
        "  else:\n",
        "    jarang = 0\n",
        "  \n",
        "  return round(jarang,1), round(sering,1) \n",
        "\n",
        "#hasil_fuzzy_income = fuzzification_kunjungan     "
      ],
      "execution_count": null,
      "outputs": []
    },
    {
      "cell_type": "markdown",
      "metadata": {
        "id": "HdpRyVhUS04d"
      },
      "source": [
        "# Bagian Baru"
      ]
    },
    {
      "cell_type": "code",
      "metadata": {
        "id": "BgyqPnZwl2Qt"
      },
      "source": [
        "def rulesfuzzy(umur,kunjungan):\n",
        "  arrRules = [\n",
        "      ['buruk',min(umur[1],kunjungan[1])],\n",
        "      ['buruk',min(umur[1],kunjungan[2])],\n",
        "      ['buruk',min(umur[1],kunjungan[3])],\n",
        "      ['baik',min(umur[2],kunjungan[1])],\n",
        "      ['baik',min(umur[2],kunjungan[2])],\n",
        "      ['baik',min(umur[2],kunjungan[3])]]\n",
        "\n",
        "  return arrRules"
      ],
      "execution_count": null,
      "outputs": []
    },
    {
      "cell_type": "code",
      "metadata": {
        "id": "NoDrLEr6DEJa"
      },
      "source": [
        "def infrance(arrRules):\n",
        "  arrBaik = []\n",
        "  arrBuruk = []\n",
        "  for x in range(len(arrRules)):\n",
        "    if(arrRules[x][0] == 'baik'):\n",
        "      arrBaik.append(arrRules[x][1])\n",
        "    elif(arrRules[x][0] == 'buruk'):\n",
        "      arrBuruk.append(arrRules[x][1])\n",
        "  return max(arrBaik),max(arrBuruk)"
      ],
      "execution_count": null,
      "outputs": []
    },
    {
      "cell_type": "code",
      "metadata": {
        "id": "3NlA7SNtlEt0",
        "colab": {
          "base_uri": "https://localhost:8080/",
          "height": 578
        },
        "outputId": "090d2e0a-e829-4b40-ae4d-f93fb0890757"
      },
      "source": [
        "data_rs = importdata()\n",
        "kunjungan()\n",
        "print()\n",
        "\n",
        "umur()\n",
        "print()\n",
        "\n",
        "arrfuzzyU = []\n",
        "for i in range(len(data_rs)):\n",
        "  arrfuzzyU.append(fuzzy_umur(data_rs[i][1]))\n",
        "\n",
        "arrfuzzyK = []\n",
        "for i in range(len(data_rs)):\n",
        "  arrfuzzyK.append(fuzzy_kunjungan(data_rs[i][2]))"
      ],
      "execution_count": null,
      "outputs": [
        {
          "output_type": "display_data",
          "data": {
            "image/png": "[encoded data removed]",
            "text/plain": [
              "<Figure size 432x288 with 1 Axes>"
            ]
          },
          "metadata": {
            "tags": [],
            "needs_background": "light"
          }
        },
        {
          "output_type": "stream",
          "text": [
            "\n"
          ],
          "name": "stdout"
        },
        {
          "output_type": "display_data",
          "data": {
            "image/png": "[encoded data removed]",
            "text/plain": [
              "<Figure size 432x288 with 1 Axes>"
            ]
          },
          "metadata": {
            "tags": [],
            "needs_background": "light"
          }
        },
        {
          "output_type": "stream",
          "text": [
            "\n"
          ],
          "name": "stdout"
        }
      ]
    },
    {
      "cell_type": "code",
      "metadata": {
        "id": "HJdZSd-rDMyf"
      },
      "source": [
        "#Menampilkan grafik fungsi Umur\n",
        "def umur():\n",
        "  x1 = [3, 6, 25, 50]\n",
        "  y1 = [1, 1, 0, 0]\n",
        "\n",
        "  x2 = [3, 6, 17, 25, 45, 50]\n",
        "  y2 = [0, 0, 1, 1, 0, 0]\n",
        "\n",
        "  x3 = [3, 30, 40, 50]\n",
        "  y3 = [0, 0, 1, 1]\n",
        "\n",
        "  plt.plot(x1, y1, 'r-', label = 'anak')\n",
        "  plt.plot(x2, y2, 'y-', label = 'remaja')\n",
        "  plt.plot(x3, y3, 'b-', label = 'dewasa')\n",
        "\n",
        "  plt.title('Umur')\n",
        "  plt.legend()\n",
        "  plt.xticks(np.arange(min(x1), max(x1)+1, 10.0))\n",
        "  plt.show()"
      ],
      "execution_count": null,
      "outputs": []
    },
    {
      "cell_type": "code",
      "metadata": {
        "colab": {
          "base_uri": "https://localhost:8080/",
          "height": 281
        },
        "id": "KEZd2Gghxikd",
        "outputId": "dd60356f-4696-4ea2-cbd2-9f2f267985cc"
      },
      "source": [
        "umur()"
      ],
      "execution_count": null,
      "outputs": [
        {
          "output_type": "display_data",
          "data": {
            "image/png": "[encoded data removed]",
            "text/plain": [
              "<Figure size 432x288 with 1 Axes>"
            ]
          },
          "metadata": {
            "tags": [],
            "needs_background": "light"
          }
        }
      ]
    },
    {
      "cell_type": "code",
      "metadata": {
        "id": "T91phT2yyyd-"
      },
      "source": [
        "def kunjungan():\n",
        "  x1 = [1,2,3,4,5]\n",
        "  y1 = [1,1,0,0,0]\n",
        "\n",
        "  x2 = [1,2,3,4,5]\n",
        "  y2 = [0, 0, 1, 1, 1]\n",
        "\n",
        "  plt.plot(x1, y1, 'r-', label = 'jarang')\n",
        "  plt.plot(x2, y2, 'y-', label = 'sering')\n",
        " \n",
        "\n",
        "  plt.title('kunjugan')\n",
        "  plt.legend()\n",
        "  plt.xticks(np.arange(min(x1), max(x1)+1, 10.0))\n",
        "  plt.show()"
      ],
      "execution_count": null,
      "outputs": []
    },
    {
      "cell_type": "code",
      "metadata": {
        "colab": {
          "base_uri": "https://localhost:8080/",
          "height": 281
        },
        "id": "aZAdmAHWzrCb",
        "outputId": "f255d9ab-2a55-4adf-ef38-637af6f22a55"
      },
      "source": [
        "kunjungan()"
      ],
      "execution_count": null,
      "outputs": [
        {
          "output_type": "display_data",
          "data": {
            "image/png": "[encoded data removed]",
            "text/plain": [
              "<Figure size 432x288 with 1 Axes>"
            ]
          },
          "metadata": {
            "tags": [],
            "needs_background": "light"
          }
        }
      ]
    },
    {
      "cell_type": "code",
      "metadata": {
        "id": "_c1r8yOKRYER"
      },
      "source": [
        "#menghasilkan nilai defuzzifikasi \n",
        "#prosedur defuzzifikasi\n",
        "def deFuzzy(arrInference):\n",
        "  kiri = 0 \n",
        "  kanan = 0\n",
        "  total = 0\n",
        "  mamdani = [10,20,30,40,50]\n",
        "  for i in range(len(mamdani)):\n",
        "    if (mamdani[i] <= 40):\n",
        "      kiri = kiri + (mamdani[i] * arrInference[0])\n",
        "      total = total + arrInference[0]\n",
        "    elif (mamdani[i] >= 50):\n",
        "      kanan = kanan + (mamdani[i] * arrInference[0])\n",
        "      total = total + arrInference[1]\n",
        "\n",
        "  return (kanan + kiri)/total"
      ],
      "execution_count": null,
      "outputs": []
    },
    {
      "cell_type": "code",
      "metadata": {
        "id": "YAk-Nye9gJjN",
        "colab": {
          "base_uri": "https://localhost:8080/",
          "height": 286
        },
        "outputId": "517caa0e-27dc-466a-b522-1fe2791f2347"
      },
      "source": [
        "inf = [1, 3, 5]\n",
        "def defuzzification(inf):\n",
        "    return ((inf[1]*35)+(inf[3]*65)+(inf[5]*100))/(inf[1]+inf[3]+inf[5])\n",
        "\n",
        "#model sugeno\n",
        "plt.axvline(x=35, color='red', label='no')\n",
        "plt.axvline(x=65, color='blue', label='maybe')\n",
        "plt.axvline(x=100, color = 'green', label='yes')\n",
        "plt.legend()"
      ],
      "execution_count": null,
      "outputs": [
        {
          "output_type": "execute_result",
          "data": {
            "text/plain": [
              "<matplotlib.legend.Legend at 0x7f3e1a205a10>"
            ]
          },
          "metadata": {
            "tags": []
          },
          "execution_count": 175
        },
        {
          "output_type": "display_data",
          "data": {
            "image/png": "[encoded data removed]",
            "text/plain": [
              "<Figure size 432x288 with 1 Axes>"
            ]
          },
          "metadata": {
            "tags": [],
            "needs_background": "light"
          }
        }
      ]
    },
    {
      "cell_type": "code",
      "metadata": {
        "id": "i-i3bipnDQa5",
        "colab": {
          "base_uri": "https://localhost:8080/"
        },
        "outputId": "6612cea9-63e2-4df8-ef43-fed0c6c9ead5"
      },
      "source": [
        "score = []\n",
        "for i in range (5):\n",
        "  score.append(70)\n",
        "for i in range (10):\n",
        "  score.append(40)\n",
        "for i in range (5):\n",
        "  score.append(100)\n",
        "print(score)"
      ],
      "execution_count": null,
      "outputs": [
        {
          "output_type": "stream",
          "text": [
            "[70, 70, 70, 70, 70, 40, 40, 40, 40, 40, 40, 40, 40, 40, 40, 100, 100, 100, 100, 100]\n"
          ],
          "name": "stdout"
        }
      ]
    },
    {
      "cell_type": "code",
      "metadata": {
        "id": "oW6KbT5_DUmb",
        "colab": {
          "base_uri": "https://localhost:8080/",
          "height": 346
        },
        "outputId": "f668477d-906d-4423-948c-311a3146815a"
      },
      "source": [
        "arrfinalResult = []\n",
        "\n",
        "for i in range(len(data_rs)):\n",
        "  fuzzy = rulesfuzzy(arrfuzzyU,arrfuzzyK)\n",
        "  infer = infrance(fuzzy)\n",
        "  arrfinalResult.append([i+1,deFuzzy(infer)])\n",
        "\n",
        "  arrfinalResult = finalResult(arrfinalResult)\n",
        "  print('Id', arrfinalResult)"
      ],
      "execution_count": null,
      "outputs": [
        {
          "output_type": "error",
          "ename": "TypeError",
          "evalue": "ignored",
          "traceback": [
            "\u001b[0;31m---------------------------------------------------------------------------\u001b[0m",
            "\u001b[0;31mTypeError\u001b[0m                                 Traceback (most recent call last)",
            "\u001b[0;32m<ipython-input-181-712d65a5b879>\u001b[0m in \u001b[0;36m<module>\u001b[0;34m()\u001b[0m\n\u001b[1;32m      4\u001b[0m   \u001b[0mfuzzy\u001b[0m \u001b[0;34m=\u001b[0m \u001b[0mrulesfuzzy\u001b[0m\u001b[0;34m(\u001b[0m\u001b[0marrfuzzyU\u001b[0m\u001b[0;34m,\u001b[0m\u001b[0marrfuzzyK\u001b[0m\u001b[0;34m)\u001b[0m\u001b[0;34m\u001b[0m\u001b[0;34m\u001b[0m\u001b[0m\n\u001b[1;32m      5\u001b[0m   \u001b[0minfer\u001b[0m \u001b[0;34m=\u001b[0m \u001b[0minfrance\u001b[0m\u001b[0;34m(\u001b[0m\u001b[0mfuzzy\u001b[0m\u001b[0;34m)\u001b[0m\u001b[0;34m\u001b[0m\u001b[0;34m\u001b[0m\u001b[0m\n\u001b[0;32m----> 6\u001b[0;31m   \u001b[0marrfinalResult\u001b[0m\u001b[0;34m.\u001b[0m\u001b[0mappend\u001b[0m\u001b[0;34m(\u001b[0m\u001b[0;34m[\u001b[0m\u001b[0mi\u001b[0m\u001b[0;34m+\u001b[0m\u001b[0;36m1\u001b[0m\u001b[0;34m,\u001b[0m\u001b[0mdeFuzzy\u001b[0m\u001b[0;34m(\u001b[0m\u001b[0minfer\u001b[0m\u001b[0;34m)\u001b[0m\u001b[0;34m]\u001b[0m\u001b[0;34m)\u001b[0m\u001b[0;34m\u001b[0m\u001b[0;34m\u001b[0m\u001b[0m\n\u001b[0m\u001b[1;32m      7\u001b[0m \u001b[0;34m\u001b[0m\u001b[0m\n\u001b[1;32m      8\u001b[0m   \u001b[0marrfinalResult\u001b[0m \u001b[0;34m=\u001b[0m \u001b[0mfinalResult\u001b[0m\u001b[0;34m(\u001b[0m\u001b[0marrfinalResult\u001b[0m\u001b[0;34m)\u001b[0m\u001b[0;34m\u001b[0m\u001b[0;34m\u001b[0m\u001b[0m\n",
            "\u001b[0;32m<ipython-input-180-6f99739e8b0f>\u001b[0m in \u001b[0;36mdeFuzzy\u001b[0;34m(arrInference)\u001b[0m\n\u001b[1;32m      8\u001b[0m   \u001b[0;32mfor\u001b[0m \u001b[0mi\u001b[0m \u001b[0;32min\u001b[0m \u001b[0mrange\u001b[0m\u001b[0;34m(\u001b[0m\u001b[0mlen\u001b[0m\u001b[0;34m(\u001b[0m\u001b[0mmamdani\u001b[0m\u001b[0;34m)\u001b[0m\u001b[0;34m)\u001b[0m\u001b[0;34m:\u001b[0m\u001b[0;34m\u001b[0m\u001b[0;34m\u001b[0m\u001b[0m\n\u001b[1;32m      9\u001b[0m     \u001b[0;32mif\u001b[0m \u001b[0;34m(\u001b[0m\u001b[0mmamdani\u001b[0m\u001b[0;34m[\u001b[0m\u001b[0mi\u001b[0m\u001b[0;34m]\u001b[0m \u001b[0;34m<=\u001b[0m \u001b[0;36m40\u001b[0m\u001b[0;34m)\u001b[0m\u001b[0;34m:\u001b[0m\u001b[0;34m\u001b[0m\u001b[0;34m\u001b[0m\u001b[0m\n\u001b[0;32m---> 10\u001b[0;31m       \u001b[0mkiri\u001b[0m \u001b[0;34m=\u001b[0m \u001b[0mkiri\u001b[0m \u001b[0;34m+\u001b[0m \u001b[0;34m(\u001b[0m\u001b[0mmamdani\u001b[0m\u001b[0;34m[\u001b[0m\u001b[0mi\u001b[0m\u001b[0;34m]\u001b[0m \u001b[0;34m*\u001b[0m \u001b[0marrInference\u001b[0m\u001b[0;34m[\u001b[0m\u001b[0;36m0\u001b[0m\u001b[0;34m]\u001b[0m\u001b[0;34m)\u001b[0m\u001b[0;34m\u001b[0m\u001b[0;34m\u001b[0m\u001b[0m\n\u001b[0m\u001b[1;32m     11\u001b[0m       \u001b[0mtotal\u001b[0m \u001b[0;34m=\u001b[0m \u001b[0mtotal\u001b[0m \u001b[0;34m+\u001b[0m \u001b[0marrInference\u001b[0m\u001b[0;34m[\u001b[0m\u001b[0;36m0\u001b[0m\u001b[0;34m]\u001b[0m\u001b[0;34m\u001b[0m\u001b[0;34m\u001b[0m\u001b[0m\n\u001b[1;32m     12\u001b[0m     \u001b[0;32melif\u001b[0m \u001b[0;34m(\u001b[0m\u001b[0mmamdani\u001b[0m\u001b[0;34m[\u001b[0m\u001b[0mi\u001b[0m\u001b[0;34m]\u001b[0m \u001b[0;34m>=\u001b[0m \u001b[0;36m50\u001b[0m\u001b[0;34m)\u001b[0m\u001b[0;34m:\u001b[0m\u001b[0;34m\u001b[0m\u001b[0;34m\u001b[0m\u001b[0m\n",
            "\u001b[0;31mTypeError\u001b[0m: unsupported operand type(s) for +: 'int' and 'tuple'"
          ]
        }
      ]
    },
    {
      "cell_type": "code",
      "metadata": {
        "id": "cBekUYuvDWpo"
      },
      "source": [
        "dataExcel = data_rs.copy()\n",
        "dataExcel.sort_values('score', ascending=False, inplace=True)\n",
        "dataExcel"
      ],
      "execution_count": null,
      "outputs": []
    },
    {
      "cell_type": "code",
      "metadata": {
        "id": "iGw4KeDSDcCY"
      },
      "source": [
        "dataExcel = dataExcel[:10]\n",
        "dataExcel['Id'].to_excel('luaran.xls', index=False)"
      ],
      "execution_count": null,
      "outputs": []
    }
  ]
}